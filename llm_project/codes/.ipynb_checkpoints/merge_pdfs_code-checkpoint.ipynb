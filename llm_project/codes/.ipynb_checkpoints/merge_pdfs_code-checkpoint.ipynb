{
 "cells": [
  {
   "cell_type": "code",
   "execution_count": 26,
   "id": "af7bd64b",
   "metadata": {},
   "outputs": [],
   "source": [
    "import PyPDF2"
   ]
  },
  {
   "cell_type": "code",
   "execution_count": 27,
   "id": "a1173941",
   "metadata": {},
   "outputs": [],
   "source": [
    "import os"
   ]
  },
  {
   "cell_type": "code",
   "execution_count": 28,
   "id": "aa3febfd",
   "metadata": {},
   "outputs": [],
   "source": [
    "def merge_pdfs(input_paths, output_path):\n",
    "    merger = PyPDF2.PdfMerger()\n",
    "    for path in input_paths:\n",
    "        with open(path, 'rb') as file:\n",
    "            merger.append(file)\n",
    "\n",
    "    with open(output_path, 'wb') as merged_file:\n",
    "        merger.write(merged_file)"
   ]
  },
  {
   "cell_type": "code",
   "execution_count": 29,
   "id": "9d89294d",
   "metadata": {},
   "outputs": [],
   "source": [
    "def get_pdf_names():\n",
    "    c_type = 0\n",
    "\n",
    "    all_pdfs = []\n",
    "\n",
    "    for type_folder in os.listdir(os.path.join('..', 'all_pdfs')):\n",
    "        print(type_folder)\n",
    "        c_type+=1\n",
    "        for pdf_files in os.listdir(os.path.join('..', 'all_pdfs', type_folder)):\n",
    "            print(pdf_files)\n",
    "            print(os.path.join('..', 'all_pdfs', type_folder, pdf_files))\n",
    "            all_pdfs.append(os.path.join('..', 'all_pdfs', type_folder, pdf_files))\n",
    "    print(f'Total number of types {c_type}')\n",
    "    \n",
    "    return all_pdfs"
   ]
  },
  {
   "cell_type": "code",
   "execution_count": 30,
   "id": "17d10715",
   "metadata": {},
   "outputs": [
    {
     "name": "stdout",
     "output_type": "stream",
     "text": [
      "badge_request\n",
      "building_access.pdf\n",
      "..\\all_pdfs\\badge_request\\building_access.pdf\n",
      "building_access_101.pdf\n",
      "..\\all_pdfs\\badge_request\\building_access_101.pdf\n",
      "Building_access_Badgecreator.pdf\n",
      "..\\all_pdfs\\badge_request\\Building_access_Badgecreator.pdf\n",
      "cab_policy\n",
      "cab_data.pdf\n",
      "..\\all_pdfs\\cab_policy\\cab_data.pdf\n",
      "Cab_policy.pdf\n",
      "..\\all_pdfs\\cab_policy\\Cab_policy.pdf\n",
      "grievance_redressal_policy\n",
      "Grievance_redressal_policy.pdf\n",
      "..\\all_pdfs\\grievance_redressal_policy\\Grievance_redressal_policy.pdf\n",
      "holiday_list\n",
      "2023_Holiday_List_Legato_India.pdf\n",
      "..\\all_pdfs\\holiday_list\\2023_Holiday_List_Legato_India.pdf\n",
      "insurance_benefit_policy\n",
      "Insurance_Benefit_Policy_Manual.pdf\n",
      "..\\all_pdfs\\insurance_benefit_policy\\Insurance_Benefit_Policy_Manual.pdf\n",
      "insync\n",
      "insync_faq.pdf\n",
      "..\\all_pdfs\\insync\\insync_faq.pdf\n",
      "jira\n",
      "JIRA - Logging Work and Time Tra_d44e27253d3e45c2b57c6e15f1a975ff-310723-0227-14.pdf\n",
      "..\\all_pdfs\\jira\\JIRA - Logging Work and Time Tra_d44e27253d3e45c2b57c6e15f1a975ff-310723-0227-14.pdf\n",
      "When To Use a Story, Task, or De_8a509d02795a480d88b6d8bc6f3d49b4-310723-0227-12.pdf\n",
      "..\\all_pdfs\\jira\\When To Use a Story, Task, or De_8a509d02795a480d88b6d8bc6f3d49b4-310723-0227-12.pdf\n",
      "laptop_obtain\n",
      "Steps to obtain Laptop.pdf\n",
      "..\\all_pdfs\\laptop_obtain\\Steps to obtain Laptop.pdf\n",
      "leaves\n",
      "list_of_leaves.pdf\n",
      "..\\all_pdfs\\leaves\\list_of_leaves.pdf\n",
      "onboard_general\n",
      "Onboarding_Documentation.pdf\n",
      "..\\all_pdfs\\onboard_general\\Onboarding_Documentation.pdf\n",
      "onboard_faq.pdf\n",
      "..\\all_pdfs\\onboard_general\\onboard_faq.pdf\n",
      "percipio\n",
      "Technology_Training_Opportunities.pdf\n",
      "..\\all_pdfs\\percipio\\Technology_Training_Opportunities.pdf\n",
      "reimbursement\n",
      "reimbursement_faq.pdf\n",
      "..\\all_pdfs\\reimbursement\\reimbursement_faq.pdf\n",
      "reimbursement_internet.pdf\n",
      "..\\all_pdfs\\reimbursement\\reimbursement_internet.pdf\n",
      "reimbursement_preapproval.pdf\n",
      "..\\all_pdfs\\reimbursement\\reimbursement_preapproval.pdf\n",
      "relocation\n",
      "FAQ_Associate_Relocation.pdf\n",
      "..\\all_pdfs\\relocation\\FAQ_Associate_Relocation.pdf\n",
      "relocation_faq.pdf\n",
      "..\\all_pdfs\\relocation\\relocation_faq.pdf\n",
      "snow_timesheet\n",
      "snow_timesheet_1.pdf\n",
      "..\\all_pdfs\\snow_timesheet\\snow_timesheet_1.pdf\n",
      "snow_timesheet_2.pdf\n",
      "..\\all_pdfs\\snow_timesheet\\snow_timesheet_2.pdf\n",
      "ticket_raise\n",
      "IT_service_connect_ticket_raise_process.pdf\n",
      "..\\all_pdfs\\ticket_raise\\IT_service_connect_ticket_raise_process.pdf\n",
      "workday_profile\n",
      "workday_profile_update.pdf\n",
      "..\\all_pdfs\\workday_profile\\workday_profile_update.pdf\n",
      "Total number of types 16\n"
     ]
    }
   ],
   "source": [
    "if __name__ == \"__main__\":\n",
    "    # Provide the paths of the input PDFs and the desired output path\n",
    "    input_pdfs = get_pdf_names()   # Replace with your file paths\n",
    "    output_pdf = \"merged_output.pdf\"  # Replace with the desired output path\n",
    "\n",
    "    merge_pdfs(input_pdfs, output_pdf)"
   ]
  },
  {
   "cell_type": "code",
   "execution_count": null,
   "id": "27b8d5de",
   "metadata": {},
   "outputs": [],
   "source": []
  }
 ],
 "metadata": {
  "kernelspec": {
   "display_name": "Python 3 (ipykernel)",
   "language": "python",
   "name": "python3"
  },
  "language_info": {
   "codemirror_mode": {
    "name": "ipython",
    "version": 3
   },
   "file_extension": ".py",
   "mimetype": "text/x-python",
   "name": "python",
   "nbconvert_exporter": "python",
   "pygments_lexer": "ipython3",
   "version": "3.9.12"
  }
 },
 "nbformat": 4,
 "nbformat_minor": 5
}
