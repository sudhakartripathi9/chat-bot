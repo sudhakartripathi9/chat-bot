{
 "cells": [
  {
   "cell_type": "code",
   "execution_count": 3,
   "metadata": {},
   "outputs": [],
   "source": [
    "import tqdm as notebook_tqdm\n",
    "from langchain_pinecone import PineconeVectorStore\n",
    "from pinecone import Pinecone, ServerlessSpec\n",
    "from pypdf import PdfReader\n",
    "from langchain.text_splitter import RecursiveCharacterTextSplitter\n",
    "import os\n",
    "\n",
    "from langchain_google_genai import GoogleGenerativeAIEmbeddings\n",
    "import google.generativeai as genai\n",
    "from langchain_google_genai import ChatGoogleGenerativeAI # for load the google gemini model\n",
    "\n",
    "from langchain.vectorstores import FAISS\n",
    "from langchain.chains.question_answering import load_qa_chain\n",
    "from langchain.prompts import PromptTemplate\n",
    "from dotenv import load_dotenv\n"
   ]
  },
  {
   "cell_type": "code",
   "execution_count": 16,
   "metadata": {},
   "outputs": [],
   "source": [
    "os.environ['PINECONE_API_KEY'] = 'pcsk_3eX2TU_K3QrP2W6o1TQAJ3XxAnFtUu4syfaAqnNBSzN4ayZS48dgGrw2HM3RaaYN1aXvC5'"
   ]
  },
  {
   "cell_type": "code",
   "execution_count": 17,
   "metadata": {},
   "outputs": [],
   "source": [
    "load_dotenv()\n",
    "genai.configure(api_key=os.getenv('GOOGLE_AIP_KEY'))"
   ]
  },
  {
   "cell_type": "code",
   "execution_count": 18,
   "metadata": {},
   "outputs": [],
   "source": [
    "def get_pdf_text():\n",
    "    text = ''\n",
    "    for pdf in os.listdir('pdfs'):\n",
    "        reader = PdfReader(os.path.join('pdfs',pdf))\n",
    "        for page in reader.pages:\n",
    "            text = text + page.extract_text()\n",
    "\n",
    "    return text"
   ]
  },
  {
   "cell_type": "code",
   "execution_count": 19,
   "metadata": {},
   "outputs": [],
   "source": [
    "def get_text_chunks(text):\n",
    "    text_splitter = RecursiveCharacterTextSplitter(\n",
    "        chunk_size = 500,\n",
    "        chunk_overlap = 50\n",
    "    )\n",
    "    chunks = text_splitter.split_text(text)\n",
    "\n",
    "    return chunks"
   ]
  },
  {
   "cell_type": "code",
   "execution_count": 28,
   "metadata": {},
   "outputs": [],
   "source": [
    "pc = Pinecone(api_key=\"pcsk_3eX2TU_K3QrP2W6o1TQAJ3XxAnFtUu4syfaAqnNBSzN4ayZS48dgGrw2HM3RaaYN1aXvC5\")\n",
    "\n",
    "# index_name = \"mychatbot\"\n",
    "\n",
    "# pc.create_index(\n",
    "#     name=index_name,\n",
    "#     dimension=768, # Replace with your model dimensions\n",
    "#     metric=\"cosine\", # Replace with your model metric\n",
    "#     spec=ServerlessSpec(\n",
    "#         cloud=\"aws\",\n",
    "#         region=\"us-east-1\"\n",
    "#     ) \n",
    "# )"
   ]
  },
  {
   "cell_type": "code",
   "execution_count": 29,
   "metadata": {},
   "outputs": [],
   "source": [
    "text = get_pdf_text()\n",
    "docs = get_text_chunks(text)"
   ]
  },
  {
   "cell_type": "code",
   "execution_count": 30,
   "metadata": {},
   "outputs": [
    {
     "data": {
      "text/plain": [
       "{'dimension': 768,\n",
       " 'index_fullness': 0.0,\n",
       " 'namespaces': {},\n",
       " 'total_vector_count': 0}"
      ]
     },
     "execution_count": 30,
     "metadata": {},
     "output_type": "execute_result"
    }
   ],
   "source": [
    "pc.list_indexes().names()\n",
    "index_name = 'mychatbot'\n",
    "index = pc.Index(index_name)\n",
    "index.describe_index_stats()"
   ]
  },
  {
   "cell_type": "code",
   "execution_count": 45,
   "metadata": {},
   "outputs": [],
   "source": [
    "index_name = \"mychatbot\"\n",
    "embeddings = GoogleGenerativeAIEmbeddings(model=\"models/embedding-001\")\n",
    "\n",
    "# vectorstore for adding the documents or text, if not available in pinecone server\n",
    "vectorstore = PineconeVectorStore.from_texts(docs,index_name=index_name, embedding=embeddings)\n",
    "# vectorstore = PineconeVectorStore.from_documents(docs,index_name=index_name, embedding=embeddings)\n",
    "\n",
    "\n",
    "#if vectors already available in pinecone server \n",
    "vectorstore = PineconeVectorStore(docs,index_name=index_name, embedding=embeddings)"
   ]
  },
  {
   "cell_type": "code",
   "execution_count": 32,
   "metadata": {},
   "outputs": [
    {
     "data": {
      "text/plain": [
       "[Document(id='36b2e833-f922-4870-a8a9-f9f1dba56ff1', metadata={}, page_content='[34] S. Phadikar, J. Sil, A.K. Das, Rice diseases classification using feature selection and \\nrule generation techniques, Comput. Electron. Agric. 90 (2013) 76 – 85 . \\n[35] Y. Wang, H. Wang, Z. Peng, Rice diseases detection and classification using \\nattention based neural network and bayesian optimization, Expert Syst. Appl. 178 \\n(2021), 114770, https://doi.org/10.1016/j.eswa.2021.114770 . \\n[36] G. Kathiresan, M. Anirudh, M. Nagharjun, R. Karthik, Disease detection in rice'),\n",
       " Document(id='559e48d3-c7f9-462f-89b0-ac92fa2335df', metadata={}, page_content='sifying rice diseases and deficiency symptoms via smartphone-captured \\nimages. The ResNet50 model performed best for cloud architectures, \\nwhile MobileNetV2 was the best model for the smartphone. Finally, the \\nandroid application “ Rice Disease Detector ” , compiled with the Mobi -\\nleNetV2 model, performed satisfactorily in identifying multiple disease \\noccurrences in a single capture, highlighting the potential of the pro -'),\n",
       " Document(id='16e40e8f-78b6-451f-9bc5-8bb6d90d9ee2', metadata={}, page_content='posed approach for future rapid and on-field rice disease detection. This \\nstudy addressed the on-field detection of complexities like multiple crop \\ndisease occurrences, macro-nutrient deficiencies, and diseases existing \\nwith nutrient deficiencies. Notably, the selection of the best model for \\nthe application development was based on its fast-prediction time, the \\nFig. 5. Confusion matrix of a) ResNet50 model and b) MobileNet V2 model.'),\n",
       " Document(id='8db5c771-8dab-4d5a-87a1-03104f5f672f', metadata={}, page_content='The developed Android application installed on a smartphone device \\ncan perform all the operations in both offline and online modes. \\nFig. 1. Flowchart showing image pre-processing before model training: a) field-collected images for various diseases, b) foreground segmented and resized images, \\nand c) augmented images after foreground segmentation. \\nTable 2 \\nTechnical description of deep learning models used for rice disease classification.')]"
      ]
     },
     "execution_count": 32,
     "metadata": {},
     "output_type": "execute_result"
    }
   ],
   "source": [
    "vectorstore.similarity_search('which model analized in rice dicease detector application?')"
   ]
  },
  {
   "cell_type": "code",
   "execution_count": null,
   "metadata": {},
   "outputs": [],
   "source": []
  },
  {
   "cell_type": "code",
   "execution_count": 33,
   "metadata": {},
   "outputs": [],
   "source": [
    "def get_conversational_chain():\n",
    "    prompt_template = '''\n",
    "    Answer the question from provided context, make sure to give proper correct answer, don't give wrong answer.\n",
    "    if answer is not available for given question just give the output \"Answer is not available for given input \\n\\n\"\n",
    "    Context : \\n {context}? \\n\n",
    "    Question : \\n {question} \\n\n",
    "\n",
    "    Answer : \n",
    "    '''\n",
    "\n",
    "    model = ChatGoogleGenerativeAI(model='gemini-1.5-flash',temperature=0.3)\n",
    "    prompt = PromptTemplate(template=prompt_template,input_variables=['context','question'])\n",
    "\n",
    "    chain = load_qa_chain(model,chain_type = \"stuff\",prompt=prompt)\n",
    "\n",
    "    return chain"
   ]
  },
  {
   "cell_type": "code",
   "execution_count": 34,
   "metadata": {},
   "outputs": [],
   "source": [
    "def user_input(new_question,vector):\n",
    "    embedding = GoogleGenerativeAIEmbeddings(model=\"models/embedding-001\")\n",
    "    docs = vectorstore.similarity_search(new_question)\n",
    "    chain = get_conversational_chain()\n",
    "\n",
    "    response = chain(\n",
    "        {'input_documents':docs,'question':new_question},\n",
    "        return_only_outputs=True\n",
    "        )\n",
    "    return response\n"
   ]
  },
  {
   "cell_type": "code",
   "execution_count": 35,
   "metadata": {},
   "outputs": [],
   "source": [
    "text = get_pdf_text()"
   ]
  },
  {
   "cell_type": "code",
   "execution_count": 36,
   "metadata": {},
   "outputs": [],
   "source": [
    "chunks = get_text_chunks(text)"
   ]
  },
  {
   "cell_type": "code",
   "execution_count": 38,
   "metadata": {},
   "outputs": [
    {
     "name": "stderr",
     "output_type": "stream",
     "text": [
      "/var/folders/9q/6k7k1grx2s903q0xtw_b476m0000gn/T/ipykernel_90425/4160417242.py:14: LangChainDeprecationWarning: This class is deprecated. See the following migration guides for replacements based on `chain_type`:\n",
      "stuff: https://python.langchain.com/docs/versions/migrating_chains/stuff_docs_chain\n",
      "map_reduce: https://python.langchain.com/docs/versions/migrating_chains/map_reduce_chain\n",
      "refine: https://python.langchain.com/docs/versions/migrating_chains/refine_chain\n",
      "map_rerank: https://python.langchain.com/docs/versions/migrating_chains/map_rerank_docs_chain\n",
      "\n",
      "See also guides on retrieval and question-answering here: https://python.langchain.com/docs/how_to/#qa-with-rag\n",
      "  chain = load_qa_chain(model,chain_type = \"stuff\",prompt=prompt)\n"
     ]
    }
   ],
   "source": [
    "conversation = get_conversational_chain()"
   ]
  },
  {
   "cell_type": "code",
   "execution_count": 40,
   "metadata": {},
   "outputs": [
    {
     "name": "stderr",
     "output_type": "stream",
     "text": [
      "/var/folders/9q/6k7k1grx2s903q0xtw_b476m0000gn/T/ipykernel_90425/2723218180.py:6: LangChainDeprecationWarning: The method `Chain.__call__` was deprecated in langchain 0.1.0 and will be removed in 1.0. Use :meth:`~invoke` instead.\n",
      "  response = chain(\n"
     ]
    }
   ],
   "source": [
    "ans = user_input('who is PM of india?',vector = vectorstore)"
   ]
  },
  {
   "cell_type": "code",
   "execution_count": 41,
   "metadata": {},
   "outputs": [
    {
     "name": "stdout",
     "output_type": "stream",
     "text": [
      "{'output_text': 'Answer is not available for given input\\n'}\n"
     ]
    }
   ],
   "source": [
    "print(ans)"
   ]
  },
  {
   "cell_type": "code",
   "execution_count": 43,
   "metadata": {},
   "outputs": [
    {
     "data": {
      "text/plain": [
       "{'output_text': 'MobileNetV2 model was used in the Rice Disease Detector application.\\n'}"
      ]
     },
     "execution_count": 43,
     "metadata": {},
     "output_type": "execute_result"
    }
   ],
   "source": [
    "(user_input('which model have been used in rice dicease detector application?',vector = vectorstore))"
   ]
  },
  {
   "cell_type": "code",
   "execution_count": 44,
   "metadata": {},
   "outputs": [
    {
     "data": {
      "text/plain": [
       "{'output_text': 'The Rice Disease Detector application analyzed the ResNet50 and MobileNetV2 models.  MobileNetV2 was ultimately chosen for the application due to its faster prediction time.\\n'}"
      ]
     },
     "execution_count": 44,
     "metadata": {},
     "output_type": "execute_result"
    }
   ],
   "source": [
    "(user_input('which model analized in rice dicease detector application?',vector = vectorstore))"
   ]
  },
  {
   "cell_type": "code",
   "execution_count": null,
   "metadata": {},
   "outputs": [],
   "source": []
  }
 ],
 "metadata": {
  "kernelspec": {
   "display_name": "genai",
   "language": "python",
   "name": "python3"
  },
  "language_info": {
   "codemirror_mode": {
    "name": "ipython",
    "version": 3
   },
   "file_extension": ".py",
   "mimetype": "text/x-python",
   "name": "python",
   "nbconvert_exporter": "python",
   "pygments_lexer": "ipython3",
   "version": "3.10.15"
  }
 },
 "nbformat": 4,
 "nbformat_minor": 2
}
