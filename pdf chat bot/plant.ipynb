{
 "cells": [
  {
   "cell_type": "code",
   "execution_count": 1,
   "metadata": {},
   "outputs": [
    {
     "name": "stderr",
     "output_type": "stream",
     "text": [
      "/opt/homebrew/anaconda3/envs/genai/lib/python3.10/site-packages/tqdm/auto.py:21: TqdmWarning: IProgress not found. Please update jupyter and ipywidgets. See https://ipywidgets.readthedocs.io/en/stable/user_install.html\n",
      "  from .autonotebook import tqdm as notebook_tqdm\n"
     ]
    }
   ],
   "source": [
    "import tqdm as notebook_tqdm\n",
    "from pypdf import PdfReader\n",
    "from langchain.text_splitter import RecursiveCharacterTextSplitter\n",
    "import os\n",
    "\n",
    "from langchain_google_genai import GoogleGenerativeAIEmbeddings\n",
    "import google.generativeai as genai\n",
    "from langchain_google_genai import ChatGoogleGenerativeAI # for load the google gemini model\n",
    "\n",
    "from langchain.vectorstores import FAISS\n",
    "from langchain.chains.question_answering import load_qa_chain\n",
    "from langchain.prompts import PromptTemplate\n",
    "from dotenv import load_dotenv\n"
   ]
  },
  {
   "cell_type": "code",
   "execution_count": 2,
   "metadata": {},
   "outputs": [],
   "source": [
    "load_dotenv()\n",
    "genai.configure(api_key=os.getenv('GOOGLE_AIP_KEY'))"
   ]
  },
  {
   "cell_type": "code",
   "execution_count": 3,
   "metadata": {},
   "outputs": [],
   "source": [
    "def get_pdf_text():\n",
    "    text = ''\n",
    "    for pdf in os.listdir('pdfs'):\n",
    "        reader = PdfReader(os.path.join('pdfs',pdf))\n",
    "        for page in reader.pages:\n",
    "            text = text + page.extract_text()\n",
    "\n",
    "    return text\n",
    "\n",
    "\n",
    "def get_text_chunks(text):\n",
    "    text_splitter = RecursiveCharacterTextSplitter(\n",
    "        chunk_size = 500,\n",
    "        chunk_overlap = 50\n",
    "    )\n",
    "    chunks = text_splitter.split_text(text)\n",
    "\n",
    "    return chunks\n",
    "\n",
    "def get_vector(text_chunks):\n",
    "    embedding = GoogleGenerativeAIEmbeddings(model=\"models/embedding-001\")\n",
    "    vectors = FAISS.from_texts(text_chunks,embedding=embedding)\n",
    "    vectors.save_local('faiss_index')\n",
    "    return vectors\n",
    "\n",
    "def get_conversational_chain():\n",
    "    prompt_template = '''\n",
    "    Answer the question from provided context, make sure to give proper correct answer, don't give wrong answer.\n",
    "    if answer is not available for given question just give the output \"Answer is not available for given input \\n\\n\"\n",
    "    Context : \\n {context}? \\n\n",
    "    Question : \\n {question} \\n\n",
    "\n",
    "    Answer : \n",
    "    '''\n",
    "\n",
    "    model = ChatGoogleGenerativeAI(model='gemini-1.5-flash',temperature=0.3)\n",
    "    prompt = PromptTemplate(template=prompt_template,input_variables=['context','question'])\n",
    "\n",
    "    chain = load_qa_chain(model,chain_type = \"stuff\",prompt=prompt)\n",
    "\n",
    "    return chain\n",
    "\n",
    "\n",
    "def user_input(new_question,vector):\n",
    "    embedding = GoogleGenerativeAIEmbeddings(model=\"models/embedding-001\")\n",
    "    docs = vector.similarity_search(new_question)\n",
    "    chain = get_conversational_chain()\n",
    "\n",
    "    response = chain(\n",
    "        {'input_documents':docs,'question':new_question},\n",
    "        return_only_outputs=True\n",
    "        )\n",
    "    return response\n",
    "\n"
   ]
  },
  {
   "cell_type": "code",
   "execution_count": 4,
   "metadata": {},
   "outputs": [],
   "source": [
    "text = get_pdf_text()"
   ]
  },
  {
   "cell_type": "code",
   "execution_count": 5,
   "metadata": {},
   "outputs": [],
   "source": [
    "chunks = get_text_chunks(text)"
   ]
  },
  {
   "cell_type": "code",
   "execution_count": 6,
   "metadata": {},
   "outputs": [],
   "source": [
    "vectors = get_vector(chunks)"
   ]
  },
  {
   "cell_type": "code",
   "execution_count": 7,
   "metadata": {},
   "outputs": [
    {
     "name": "stderr",
     "output_type": "stream",
     "text": [
      "/var/folders/9q/6k7k1grx2s903q0xtw_b476m0000gn/T/ipykernel_115/1284385135.py:39: LangChainDeprecationWarning: This class is deprecated. See the following migration guides for replacements based on `chain_type`:\n",
      "stuff: https://python.langchain.com/docs/versions/migrating_chains/stuff_docs_chain\n",
      "map_reduce: https://python.langchain.com/docs/versions/migrating_chains/map_reduce_chain\n",
      "refine: https://python.langchain.com/docs/versions/migrating_chains/refine_chain\n",
      "map_rerank: https://python.langchain.com/docs/versions/migrating_chains/map_rerank_docs_chain\n",
      "\n",
      "See also guides on retrieval and question-answering here: https://python.langchain.com/docs/how_to/#qa-with-rag\n",
      "  chain = load_qa_chain(model,chain_type = \"stuff\",prompt=prompt)\n"
     ]
    }
   ],
   "source": [
    "conversation = get_conversational_chain()"
   ]
  },
  {
   "cell_type": "code",
   "execution_count": 8,
   "metadata": {},
   "outputs": [
    {
     "name": "stderr",
     "output_type": "stream",
     "text": [
      "/var/folders/9q/6k7k1grx2s903q0xtw_b476m0000gn/T/ipykernel_115/1284385135.py:49: LangChainDeprecationWarning: The method `Chain.__call__` was deprecated in langchain 0.1.0 and will be removed in 1.0. Use :meth:`~invoke` instead.\n",
      "  response = chain(\n"
     ]
    }
   ],
   "source": [
    "ans = user_input('who is PM of india?',vector = vectors)"
   ]
  },
  {
   "cell_type": "code",
   "execution_count": 9,
   "metadata": {},
   "outputs": [
    {
     "name": "stdout",
     "output_type": "stream",
     "text": [
      "{'output_text': 'Answer is not available for given input\\n'}\n"
     ]
    }
   ],
   "source": [
    "print(ans)"
   ]
  },
  {
   "cell_type": "code",
   "execution_count": 10,
   "metadata": {},
   "outputs": [
    {
     "data": {
      "text/plain": [
       "{'output_text': 'MobileNetV2 model was used in the Rice Disease Detector application.\\n'}"
      ]
     },
     "execution_count": 10,
     "metadata": {},
     "output_type": "execute_result"
    }
   ],
   "source": [
    "(user_input('which model have been used in rice dicease detector application?',vector = vectors))"
   ]
  },
  {
   "cell_type": "code",
   "execution_count": 11,
   "metadata": {},
   "outputs": [
    {
     "data": {
      "text/plain": [
       "{'output_text': 'ResNet50 and MobileNetV2 models were analyzed in the rice disease detector application.  MobileNetV2 was ultimately chosen for the Android application due to its faster prediction time.\\n'}"
      ]
     },
     "execution_count": 11,
     "metadata": {},
     "output_type": "execute_result"
    }
   ],
   "source": [
    "(user_input('which model analized in rice dicease detector application?',vector = vectors))"
   ]
  },
  {
   "cell_type": "code",
   "execution_count": null,
   "metadata": {},
   "outputs": [],
   "source": []
  }
 ],
 "metadata": {
  "kernelspec": {
   "display_name": "genai",
   "language": "python",
   "name": "python3"
  },
  "language_info": {
   "codemirror_mode": {
    "name": "ipython",
    "version": 3
   },
   "file_extension": ".py",
   "mimetype": "text/x-python",
   "name": "python",
   "nbconvert_exporter": "python",
   "pygments_lexer": "ipython3",
   "version": "3.10.15"
  }
 },
 "nbformat": 4,
 "nbformat_minor": 2
}
